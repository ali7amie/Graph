{
  "nbformat": 4,
  "nbformat_minor": 0,
  "metadata": {
    "colab": {
      "provenance": [],
      "collapsed_sections": [],
      "authorship_tag": "ABX9TyNHfmpfvNohhI0I1mjXIOJI",
      "include_colab_link": true
    },
    "kernelspec": {
      "name": "python3",
      "display_name": "Python 3"
    },
    "language_info": {
      "name": "python"
    }
  },
  "cells": [
    {
      "cell_type": "markdown",
      "metadata": {
        "id": "view-in-github",
        "colab_type": "text"
      },
      "source": [
        "<a href=\"https://colab.research.google.com/github/ali7amie/Graph/blob/main/Internship_graph.ipynb\" target=\"_parent\"><img src=\"https://colab.research.google.com/assets/colab-badge.svg\" alt=\"Open In Colab\"/></a>"
      ]
    },
    {
      "cell_type": "code",
      "execution_count": 1,
      "metadata": {
        "colab": {
          "base_uri": "https://localhost:8080/",
          "height": 130
        },
        "id": "bIMf4jxOs3_g",
        "outputId": "45180c49-6572-4418-8e66-34b7e44456c6"
      },
      "outputs": [
        {
          "output_type": "error",
          "ename": "SyntaxError",
          "evalue": "ignored",
          "traceback": [
            "\u001b[0;36m  File \u001b[0;32m\"<ipython-input-1-afa0ab6472d9>\"\u001b[0;36m, line \u001b[0;32m4\u001b[0m\n\u001b[0;31m    pip install fitsio\u001b[0m\n\u001b[0m              ^\u001b[0m\n\u001b[0;31mSyntaxError\u001b[0m\u001b[0;31m:\u001b[0m invalid syntax\n"
          ]
        }
      ],
      "source": [
        "!git clone https://github.com/ali7amie/Graph.git\n",
        "%cd /content/Graph/\n",
        "\n",
        "\n",
        "pip install fitsio\n",
        "\n",
        "import fitsio\n",
        "import pandas\n",
        "\n",
        "filename_LCDM=''\n",
        "filename_other=''\n",
        "\n",
        "data_LCDM=fitsio.read(filename_LCDM)\n",
        "data_other=fitsio.read(filename_other)\n",
        "\n",
        "data_LCDM_panda_stack=np.column_stack((data_LCDM['idp'],data_LCDM['Npart'],data_LCDM['Mass'],data_LCDM['Position'],data_LCDM['Velocity']))\n",
        "data_other_panda_stack=np.column_stack((data_other['idp'],data_other['Npart'],data_other['Mass'],data_other['Position'],data_other['Velocity']))\n",
        "  \n",
        "\n",
        "data_LCDM_panda=pd.DataFrame(data_LCDM_panda_stack,columns=['index','Npart','Mass','Pos','Vel'])\n",
        "data_other_panda=pd.DataFrame(data_other_panda_stack,columns=['index','Npart','Mass','Pos','Vel'])\n",
        "\n"
      ]
    }
  ]
}